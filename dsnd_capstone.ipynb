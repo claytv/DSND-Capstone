{
 "cells": [
  {
   "cell_type": "markdown",
   "metadata": {},
   "source": [
    "# Data Scientist Nanodegree Capstone Project\n",
    "#### By Clayton Van Hovel"
   ]
  },
  {
   "cell_type": "markdown",
   "metadata": {},
   "source": [
    "## Goal \n",
    "##### 1.) Investigate event data from a music streaming service and predict when a user is going to cancel their account\n",
    "##### 2.) Use Spark ML to process and model the data  "
   ]
  },
  {
   "cell_type": "markdown",
   "metadata": {},
   "source": [
    "## Overview\n",
    "* Process data\n",
    "* Visualize some intuitions\n",
    "* Create features\n",
    "* Implement classification algorithms\n",
    "* Tune models\n",
    "* Evaluate trained models"
   ]
  },
  {
   "cell_type": "markdown",
   "metadata": {},
   "source": [
    "## Data\n",
    "The data was provided by Udacity and intended to simulate logs from a music streaming website such as Spotify or Pandora"
   ]
  },
  {
   "cell_type": "markdown",
   "metadata": {},
   "source": [
    "## Churn\n",
    "In this situation churn is defined as the event when a user cancels their acccount"
   ]
  },
  {
   "cell_type": "markdown",
   "metadata": {},
   "source": [
    "## Feature Engineering\n",
    "From the log data I created a dataframe with one row for each user and the following features \n",
    "* Status ( Paid or Free )\n",
    "* Days since registration\n",
    "* Number of \"Thumbs Up\" given\n",
    "* Variety of artists listened to\n",
    "* Average length of listening session\n",
    "* Number of songs added to a playlist "
   ]
  },
  {
   "cell_type": "markdown",
   "metadata": {},
   "source": [
    "## Results\n",
    "#### Naive Model ( Assumes no one churns )\n",
    "- Test Accuracy: 0.8\n",
    "- Test F1-Score: 0.7\n",
    "\n",
    "#### Logistic Regression ( maxIter=10 ,  regParam= 0.0)\n",
    "- Test Accuracy: 0.81\n",
    "- Test F1-Score: 0.74\n",
    "\n",
    "#### Decision Tree ( impurity= 'entropy' , maxDepth= 2)\n",
    "- Test Accuracy: 0.77\n",
    "- Test F1-Score: 0.77\n",
    " \n",
    "#### Gradient Boosted Trees ( maxIter= 5 , maxDepth= 10)\n",
    "- Test Accuracy: 0.71\n",
    "- Test F1-Score: 0.73"
   ]
  },
  {
   "cell_type": "markdown",
   "metadata": {},
   "source": [
    "##  Potential Improvements \n",
    "* Use more data ( Need more processing power )\n",
    "* Alter train/test split\n",
    "* Increase number of parameters in cross validation ( Train time goes way up )\n",
    "* Try more algorithms ( Train time was an issue )"
   ]
  },
  {
   "cell_type": "markdown",
   "metadata": {},
   "source": [
    "## Conclusions\n",
    "The naive model performs so well here because there is an uneven split in the classes of the testing data. If more data was added and the split of classes became more even the naive model would perform much worse. So therefore for new data the naive model would not be the best choice.\n",
    "\n",
    "For new data I believe that the Decision Tree classifier is the best choice. F1 Score takes a weighted average between precision and recall so for some situations we might want to look just at precision or recall rather than F1. However, with the limited information about what is being done with these classifications, F1 score is an adequate way to rate the model. "
   ]
  },
  {
   "cell_type": "markdown",
   "metadata": {},
   "source": [
    "#### The code below is the starter code generated when loading data via spark dataframe in an IBM Watson Studio notebook. "
   ]
  },
  {
   "cell_type": "code",
   "execution_count": null,
   "metadata": {},
   "outputs": [],
   "source": [
    "import ibmos2spark\n",
    "# @hidden_cell\n",
    "credentials = {\n",
    "    'endpoint': 'https://s3-api.us-geo.objectstorage.service.networklayer.com',\n",
    "    'service_id': 'iam-ServiceId-e58ee1e7-d92b-45ec-a5d6-12f321bc1434',\n",
    "    'iam_service_endpoint': 'https://iam.ng.bluemix.net/oidc/token',\n",
    "    'api_key': 'q4gT-89bkErrXA4F1l1gDS91vKbBztTjdKUta8vDeBmQ'\n",
    "}\n",
    "\n",
    "configuration_name = 'os_a497c27a28cf4e739b900b2822f02872_configs'\n",
    "cos = ibmos2spark.CloudObjectStorage(sc, credentials, configuration_name, 'bluemix_cos')\n",
    "\n",
    "from pyspark.sql import SparkSession\n",
    "spark = SparkSession.builder.getOrCreate()\n",
    "# Since JSON data can be semi-structured and contain additional metadata, it is possible that you might face issues with the DataFrame layout.\n",
    "# Please read the documentation of 'SparkSession.read()' to learn more about the possibilities to adjust the data loading.\n",
    "# PySpark documentation: http://spark.apache.org/docs/2.0.2/api/python/pyspark.sql.html#pyspark.sql.DataFrameReader.json\n",
    "\n",
    "df = spark.read.json(cos.url('medium-sparkify-event-data.json', 'dsndcapstone-donotdelete-pr-q8ordcgdb0uqka'))"
   ]
  },
  {
   "cell_type": "code",
   "execution_count": 2,
   "metadata": {
    "scrolled": false
   },
   "outputs": [],
   "source": [
    "import pyspark.sql.functions as f\n",
    "from pyspark.sql.types import IntegerType\n",
    "\n",
    "from pyspark.ml.feature import VectorAssembler, Normalizer, StandardScaler\n",
    "from pyspark.ml.evaluation import MulticlassClassificationEvaluator, BinaryClassificationEvaluator\n",
    "from pyspark.ml.classification import LogisticRegression,LinearSVC, GBTClassifier, DecisionTreeClassifier\n",
    "from pyspark.ml.tuning import CrossValidator, ParamGridBuilder\n",
    "\n",
    "import numpy as np\n",
    "import pandas as pd\n",
    "import matplotlib.pyplot as plt\n",
    "import seaborn as sns\n",
    "\n",
    "import datetime\n",
    "from time import time\n",
    "import os"
   ]
  },
  {
   "cell_type": "markdown",
   "metadata": {},
   "source": [
    "### Overview of data"
   ]
  },
  {
   "cell_type": "code",
   "execution_count": 3,
   "metadata": {},
   "outputs": [
    {
     "name": "stdout",
     "output_type": "stream",
     "text": [
      "The number of rows is 543705\n"
     ]
    }
   ],
   "source": [
    "print('The number of rows is {}'.format(df.count()))"
   ]
  },
  {
   "cell_type": "code",
   "execution_count": 4,
   "metadata": {},
   "outputs": [
    {
     "name": "stdout",
     "output_type": "stream",
     "text": [
      "root\n",
      " |-- artist: string (nullable = true)\n",
      " |-- auth: string (nullable = true)\n",
      " |-- firstName: string (nullable = true)\n",
      " |-- gender: string (nullable = true)\n",
      " |-- itemInSession: long (nullable = true)\n",
      " |-- lastName: string (nullable = true)\n",
      " |-- length: double (nullable = true)\n",
      " |-- level: string (nullable = true)\n",
      " |-- location: string (nullable = true)\n",
      " |-- method: string (nullable = true)\n",
      " |-- page: string (nullable = true)\n",
      " |-- registration: long (nullable = true)\n",
      " |-- sessionId: long (nullable = true)\n",
      " |-- song: string (nullable = true)\n",
      " |-- status: long (nullable = true)\n",
      " |-- ts: long (nullable = true)\n",
      " |-- userAgent: string (nullable = true)\n",
      " |-- userId: string (nullable = true)\n",
      "\n"
     ]
    }
   ],
   "source": [
    "df.printSchema()"
   ]
  },
  {
   "cell_type": "code",
   "execution_count": 80,
   "metadata": {},
   "outputs": [
    {
     "name": "stdout",
     "output_type": "stream",
     "text": [
      "+-----------------+---------+---------+------+-------------+--------+---------+-----+--------------------+\n",
      "|           artist|     auth|firstName|gender|itemInSession|lastName|   length|level|            location|\n",
      "+-----------------+---------+---------+------+-------------+--------+---------+-----+--------------------+\n",
      "|    Martin Orford|Logged In|   Joseph|     M|           20| Morales|597.55057| free|  Corpus Christi, TX|\n",
      "|John Brown's Body|Logged In|   Sawyer|     M|           74|  Larson|380.21179| free|Houston-The Woodl...|\n",
      "|          Afroman|Logged In| Maverick|     M|          184|Santiago|202.37016| paid|Orlando-Kissimmee...|\n",
      "|             null|Logged In| Maverick|     M|          185|Santiago|     null| paid|Orlando-Kissimmee...|\n",
      "|       Lily Allen|Logged In|   Gianna|     F|           22|  Campos|194.53342| paid|          Mobile, AL|\n",
      "+-----------------+---------+---------+------+-------------+--------+---------+-----+--------------------+\n",
      "only showing top 5 rows\n",
      "\n",
      "+------+--------+-------------+---------+------------------+------+-------------+--------------------+------+\n",
      "|method|    page| registration|sessionId|              song|status|           ts|           userAgent|userId|\n",
      "+------+--------+-------------+---------+------------------+------+-------------+--------------------+------+\n",
      "|   PUT|NextSong|1532063507000|      292|     Grand Designs|   200|1538352011000|\"Mozilla/5.0 (Mac...|   293|\n",
      "|   PUT|NextSong|1538069638000|       97|             Bulls|   200|1538352025000|\"Mozilla/5.0 (Mac...|    98|\n",
      "|   PUT|NextSong|1535953455000|      178|Because I Got High|   200|1538352118000|\"Mozilla/5.0 (Mac...|   179|\n",
      "|   PUT|  Logout|1535953455000|      178|              null|   307|1538352119000|\"Mozilla/5.0 (Mac...|   179|\n",
      "|   PUT|NextSong|1535931018000|      245|Smile (Radio Edit)|   200|1538352124000|Mozilla/5.0 (Wind...|   246|\n",
      "+------+--------+-------------+---------+------------------+------+-------------+--------------------+------+\n",
      "only showing top 5 rows\n",
      "\n"
     ]
    }
   ],
   "source": [
    "# Selecting half of the features in each one so that it shows in a nicer format\n",
    "df.select(\"artist\", \"auth\", \"firstName\", \"gender\",\"itemInSession\", \"lastName\",\"length\", \"level\", \"location\").show(5)\n",
    "df.select(\"method\", \"page\", \"registration\",\"sessionId\",\"song\", \"status\", \"ts\", \"userAgent\", \"userId\").show(5)"
   ]
  },
  {
   "cell_type": "markdown",
   "metadata": {},
   "source": [
    "### Each possible event"
   ]
  },
  {
   "cell_type": "code",
   "execution_count": 6,
   "metadata": {},
   "outputs": [
    {
     "name": "stdout",
     "output_type": "stream",
     "text": [
      "+--------------------+\n",
      "|                page|\n",
      "+--------------------+\n",
      "|              Cancel|\n",
      "|    Submit Downgrade|\n",
      "|         Thumbs Down|\n",
      "|                Home|\n",
      "|           Downgrade|\n",
      "|         Roll Advert|\n",
      "|              Logout|\n",
      "|       Save Settings|\n",
      "|Cancellation Conf...|\n",
      "|               About|\n",
      "| Submit Registration|\n",
      "|            Settings|\n",
      "|               Login|\n",
      "|            Register|\n",
      "|     Add to Playlist|\n",
      "|          Add Friend|\n",
      "|            NextSong|\n",
      "|           Thumbs Up|\n",
      "|                Help|\n",
      "|             Upgrade|\n",
      "+--------------------+\n",
      "only showing top 20 rows\n",
      "\n"
     ]
    }
   ],
   "source": [
    "df.select('page').distinct().show()"
   ]
  },
  {
   "cell_type": "markdown",
   "metadata": {},
   "source": [
    "###  Churn\n",
    "Churn will be denoted by the 'Cancellation Confirmation' event and lets us know that the user has cancelled their account"
   ]
  },
  {
   "cell_type": "code",
   "execution_count": 7,
   "metadata": {},
   "outputs": [],
   "source": [
    "# Creates indicator column churned\n",
    "flag_cancellations = f.udf(lambda x: 1 if x == 'Cancellation Confirmation' else 0, IntegerType())\n",
    "df = df.withColumn(\"churned\", flag_cancellations(df.page))"
   ]
  },
  {
   "cell_type": "code",
   "execution_count": 8,
   "metadata": {},
   "outputs": [],
   "source": [
    "# Removes null values for timestamp columns\n",
    "df = df.select('*').where(f.col('registration').isNotNull())\n",
    "df = df.select('*').where(f.col('ts').isNotNull())"
   ]
  },
  {
   "cell_type": "code",
   "execution_count": 9,
   "metadata": {},
   "outputs": [],
   "source": [
    "# Reformats time stamps to readable format and adds column with the number of days since registration\n",
    "convert_ts = f.udf(lambda x: datetime.datetime.fromtimestamp(x / 1000.0).strftime(\"%Y-%m-%d\"))\n",
    "\n",
    "df = df.withColumn(\"registration_time\", convert_ts(df.registration))\n",
    "df = df.withColumn(\"event_time\", convert_ts(df.ts))\n",
    "\n",
    "df = df.withColumn(\"days_since_reg\", f.datediff(df.event_time, df.registration_time))"
   ]
  },
  {
   "cell_type": "markdown",
   "metadata": {},
   "source": [
    "### Visualizations "
   ]
  },
  {
   "cell_type": "code",
   "execution_count": 10,
   "metadata": {},
   "outputs": [],
   "source": [
    "# Helpful Dataframe\n",
    "churned = df.select('userId', 'churned').groupby('userId') \\\n",
    "                .agg(f.sum(f.col('churned')).alias('churned'))"
   ]
  },
  {
   "cell_type": "markdown",
   "metadata": {},
   "source": [
    "#### Percentage of Users Who Churned"
   ]
  },
  {
   "cell_type": "code",
   "execution_count": 11,
   "metadata": {},
   "outputs": [],
   "source": [
    "# Finds all upgrade and downgrade events\n",
    "upgrades_downgrades = df.select('userId', 'page', 'ts') \\\n",
    "                        .where((df.page == 'Submit Upgrade') | (df.page=='Submit Downgrade'))\n",
    "\n",
    "# Finds the latest upgrade or downgrade event for each user\n",
    "latest = upgrades_downgrades.groupby('userId').agg(f.max(f.col('ts')).alias('latest'))\n",
    "latest_event = latest.join(upgrades_downgrades, on='userId')\n",
    "\n",
    "# Creates the status column by determining whether the last event was an upgrade or downgrade\n",
    "determine_upgrade = f.udf(lambda x: 1 if x == 'Submit Upgrade' else 0)\n",
    "upgrades = latest_event.withColumn('status', determine_upgrade(latest_event.page))\n",
    "\n",
    "# Shows if a user has churned and what status they were before churning \n",
    "churned_upgrades = churned.join(upgrades, on='userId').select('userId','status','churned')\n",
    "\n",
    "premium_churn = churned_upgrades.select('churned').where(f.col('status')==1).toPandas()\n",
    "free_churn = churned_upgrades.select('churned').where(f.col('status')==0).toPandas()"
   ]
  },
  {
   "cell_type": "code",
   "execution_count": 12,
   "metadata": {},
   "outputs": [
    {
     "data": {
      "image/png": "[encoded data removed]",
      "text/plain": [
       "<Figure size 432x288 with 2 Axes>"
      ]
     },
     "metadata": {},
     "output_type": "display_data"
    }
   ],
   "source": [
    "# Creates pie chart\n",
    "len_free = len(free_churn)\n",
    "len_premium = len(premium_churn)\n",
    "\n",
    "sum_free = sum(free_churn['churned'])\n",
    "sum_premium = sum(premium_churn['churned'])\n",
    "\n",
    "labels = ['Churn', 'No Churn']\n",
    "sizes_premium = [sum_premium/len_premium*100, (len_premium-sum_premium)/len_premium*100]\n",
    "sizes_free = [sum_free/len_free*100, (len_free-sum_free)/len_free*100]\n",
    "\n",
    "fig, ax = plt.subplots(1,2)\n",
    "ax[0].pie(sizes_premium, labels=labels, autopct='%1.1f%%',\n",
    "        shadow=True, startangle=90);\n",
    "ax[0].set_title('Premium Users')\n",
    "\n",
    "ax[1].pie(sizes_free, labels=labels, autopct='%1.1f%%',\n",
    "        shadow=True, startangle=90);\n",
    "ax[1].set_title('Free Users');\n"
   ]
  },
  {
   "cell_type": "markdown",
   "metadata": {},
   "source": [
    "We see a slight variation between the two groups so we may or may not use this feature in the final model"
   ]
  },
  {
   "cell_type": "markdown",
   "metadata": {},
   "source": [
    "#### Time Since Registration "
   ]
  },
  {
   "cell_type": "code",
   "execution_count": 13,
   "metadata": {},
   "outputs": [],
   "source": [
    "# Finds the latest event a user was a part of and collects the number of days since registration\n",
    "# Interpreting this as the user accounts 'age'\n",
    "latest_user_event = df.select('userId','ts').groupby('userId').agg(f.max(f.col('ts')).alias('ts'))\n",
    "reg_latest = latest_user_event.join(df,on='ts').drop(latest_user_event.userId)\n",
    "days_since_reg = reg_latest.select('userId','days_since_reg')\n",
    "\n",
    "churned_time = churned.join(days_since_reg, on='userId').select('days_since_reg','churned').toPandas()"
   ]
  },
  {
   "cell_type": "code",
   "execution_count": 14,
   "metadata": {},
   "outputs": [
    {
     "data": {
      "image/png": "[encoded data removed]",
      "text/plain": [
       "<Figure size 432x288 with 1 Axes>"
      ]
     },
     "metadata": {
      "needs_background": "light"
     },
     "output_type": "display_data"
    }
   ],
   "source": [
    "ax = sns.boxplot(data=churned_time, y='churned', x='days_since_reg', orient='h')\n",
    "plt.xlabel('Days since registration')\n",
    "plt.ylabel('Has customer churned')\n",
    "plt.title('Churned vs No Churn: Time Since Registration')\n",
    "sns.despine(ax=ax);"
   ]
  },
  {
   "cell_type": "markdown",
   "metadata": {},
   "source": [
    "We can see that users who have not yet churned have a slightly longer lifetime. This intuitively makes sense but will most likely be a good feature to include in our final model. "
   ]
  },
  {
   "cell_type": "markdown",
   "metadata": {},
   "source": [
    "#### Variety of Artists Listened to"
   ]
  },
  {
   "cell_type": "code",
   "execution_count": 15,
   "metadata": {},
   "outputs": [],
   "source": [
    "# Calculates the number of different artists that a user has listened to and splits the users\n",
    "# by whether or not they have churned\n",
    "n_artists = df.select('userId', 'artist').groupby('userId','artist') \\\n",
    "            .count().groupby('userId').count().selectExpr('userId', 'count as n_artists')\n",
    "\n",
    "n_artists_churn = churned.join(n_artists, on='userId')\n",
    "churned_user_artist = n_artists_churn.select('n_artists').where(f.col('churned') == 1).toPandas()\n",
    "no_churn_user_artist = n_artists_churn.select('n_artists').where(f.col('churned') == 0).toPandas()"
   ]
  },
  {
   "cell_type": "code",
   "execution_count": 16,
   "metadata": {},
   "outputs": [
    {
     "data": {
      "image/png": "[encoded data removed]",
      "text/plain": [
       "<Figure size 432x288 with 1 Axes>"
      ]
     },
     "metadata": {
      "needs_background": "light"
     },
     "output_type": "display_data"
    }
   ],
   "source": [
    "ax3 = plt.subplot()\n",
    "ax3.hist([churned_user_artist['n_artists'], no_churn_user_artist['n_artists']], \\\n",
    "                 color=['r','b'], alpha=0.5);\n",
    "ax3.set_title('Number of Different Artists Listened to');\n",
    "ax3.legend(['Churned', 'No Churn']);"
   ]
  },
  {
   "cell_type": "markdown",
   "metadata": {},
   "source": [
    "From the aggregate level we can see that users who listened to a large variety of artists were less likely to churn. This will definetley be a good feature to use in the final model. "
   ]
  },
  {
   "cell_type": "markdown",
   "metadata": {},
   "source": [
    "#### Average Length of Listening Session "
   ]
  },
  {
   "cell_type": "code",
   "execution_count": 17,
   "metadata": {},
   "outputs": [],
   "source": [
    "sessions = df.select('userId', 'sessionId').groupby('userId','sessionId').count()\n",
    "avg_sessions = sessions.select('userId', 'count').groupby('userId') \\\n",
    "                .agg(f.round(f.avg(f.col('count')),0).alias('avgSessLen'))\n",
    "\n",
    "sessions_churn = churned.join(avg_sessions, on='userId')\n",
    "avg_sess_churn = sessions_churn.select('avgSessLen').where(f.col('churned') == 1).toPandas()\n",
    "avg_sess_no_churn = sessions_churn.select('avgSessLen').where(f.col('churned') == 0).toPandas()"
   ]
  },
  {
   "cell_type": "code",
   "execution_count": 18,
   "metadata": {},
   "outputs": [
    {
     "data": {
      "image/png": "[encoded data removed]",
      "text/plain": [
       "<Figure size 432x288 with 1 Axes>"
      ]
     },
     "metadata": {
      "needs_background": "light"
     },
     "output_type": "display_data"
    }
   ],
   "source": [
    "ax4 = plt.subplot()\n",
    "ax4.hist([avg_sess_churn['avgSessLen'], avg_sess_no_churn['avgSessLen']], \\\n",
    "                  color=['r','b'], alpha=0.5);\n",
    "ax4.legend(['Churned', 'No Churn']);\n",
    "ax4.set_title('Average Number of Songs in a Session');"
   ]
  },
  {
   "cell_type": "markdown",
   "metadata": {},
   "source": [
    "From the aggregate level we can see that users who listened to a larger average number of songs per session were less likely to churn. This will also definetley be a good feature to use in the final model"
   ]
  },
  {
   "cell_type": "markdown",
   "metadata": {},
   "source": [
    "#### Number of Thumbs Up Given "
   ]
  },
  {
   "cell_type": "code",
   "execution_count": 19,
   "metadata": {},
   "outputs": [],
   "source": [
    "n_thumbs_up = df.select('userId', 'page').where(f.col('page') == 'Thumbs Up') \\\n",
    "                .groupby('userId').agg(f.count(f.col('page')).alias('numThumbs'))\n",
    "thumbs_churn = churned.join(n_thumbs_up, on='userId')\n",
    "\n",
    "churn_thumbs = thumbs_churn.select('numThumbs',).where(f.col('churned') == 1).toPandas()\n",
    "no_churn_thumbs = thumbs_churn.select('numThumbs',).where(f.col('churned') == 0).toPandas()"
   ]
  },
  {
   "cell_type": "code",
   "execution_count": 20,
   "metadata": {},
   "outputs": [
    {
     "data": {
      "image/png": "[encoded data removed]",
      "text/plain": [
       "<Figure size 432x288 with 1 Axes>"
      ]
     },
     "metadata": {
      "needs_background": "light"
     },
     "output_type": "display_data"
    }
   ],
   "source": [
    "ax5= plt.subplot()\n",
    "ax5.hist([churn_thumbs['numThumbs'], no_churn_thumbs['numThumbs']], \\\n",
    "                  color=['r','b'], alpha=0.5);\n",
    "ax5.legend(['Churned', 'No Churn']);\n",
    "ax5.set_xlabel('Number of Thumbs Up Given by User');"
   ]
  },
  {
   "cell_type": "markdown",
   "metadata": {},
   "source": [
    "Its clear that users who give a large number of thumbs are less likely to churn. We will use this feature in our final model. "
   ]
  },
  {
   "cell_type": "markdown",
   "metadata": {},
   "source": [
    "# Feature Engineering"
   ]
  },
  {
   "cell_type": "code",
   "execution_count": 21,
   "metadata": {},
   "outputs": [],
   "source": [
    "# Helpful dataframes\n",
    "users = df.select('userId').distinct()\n",
    "churned = df.select('userId', 'churned').groupby('userId') \\\n",
    "                .agg(f.sum(f.col('churned')).alias('churned'))"
   ]
  },
  {
   "cell_type": "markdown",
   "metadata": {},
   "source": [
    "### Feature 1 - Status"
   ]
  },
  {
   "cell_type": "markdown",
   "metadata": {},
   "source": [
    "##### Indicates whether or not a user is using the paid version or not"
   ]
  },
  {
   "cell_type": "code",
   "execution_count": 22,
   "metadata": {},
   "outputs": [],
   "source": [
    "upgrades_downgrades = df.select('userId', 'page', 'ts') \\\n",
    "                        .where((df.page == 'Submit Upgrade') | (df.page=='Submit Downgrade'))"
   ]
  },
  {
   "cell_type": "code",
   "execution_count": 45,
   "metadata": {},
   "outputs": [],
   "source": [
    "latest = upgrades_downgrades.groupby('userId').agg(f.max(f.col('ts')).alias('latest'))\n",
    "latest_event = latest.join(upgrades_downgrades, on='userId')\n",
    "determine_upgrade = f.udf(lambda x: 1 if x == 'Submit Upgrade' else 0, IntegerType())\n",
    "user_status = latest_event.withColumn('status', determine_upgrade(latest_event.page)).select('userId', 'status')"
   ]
  },
  {
   "cell_type": "markdown",
   "metadata": {},
   "source": [
    "### Feature 2 - Time since registration"
   ]
  },
  {
   "cell_type": "markdown",
   "metadata": {},
   "source": [
    "##### Represents the amount of time since the user has registered"
   ]
  },
  {
   "cell_type": "code",
   "execution_count": 46,
   "metadata": {},
   "outputs": [],
   "source": [
    "latest_user_event = df.select('userId','ts').groupby('userId').agg(f.max(f.col('ts')).alias('ts'))\n",
    "reg_latest = latest_user_event.join(df,on='ts').drop(latest_user_event.userId)"
   ]
  },
  {
   "cell_type": "code",
   "execution_count": 47,
   "metadata": {},
   "outputs": [],
   "source": [
    "days_since_reg = reg_latest.select('userId','days_since_reg').dropDuplicates(['userId'])"
   ]
  },
  {
   "cell_type": "markdown",
   "metadata": {},
   "source": [
    "### Feature 3 - Number of 'Thumbs Up'"
   ]
  },
  {
   "cell_type": "markdown",
   "metadata": {},
   "source": [
    "##### Represents the number of times a user has used the 'Thumbs Up' feature"
   ]
  },
  {
   "cell_type": "code",
   "execution_count": 48,
   "metadata": {},
   "outputs": [],
   "source": [
    "n_thumbs_up = df.select('userId', 'page').where(f.col('page') == 'Thumbs Up') \\\n",
    "                .groupby('userId').agg(f.count(f.col('page')).alias('numThumbs'))"
   ]
  },
  {
   "cell_type": "markdown",
   "metadata": {},
   "source": [
    "### Feature 4 - Average Songs Listened to in a Session"
   ]
  },
  {
   "cell_type": "markdown",
   "metadata": {},
   "source": [
    "##### Represents the average number of songs that a user listened to in one session "
   ]
  },
  {
   "cell_type": "code",
   "execution_count": 49,
   "metadata": {},
   "outputs": [],
   "source": [
    "sessions = df.select('userId', 'sessionId').groupby('userId','sessionId').count()\n",
    "avg_sessions = sessions.select('userId', 'count').groupby('userId') \\\n",
    "                .agg(f.round(f.avg(f.col('count')),0).alias('avgSessLen'))"
   ]
  },
  {
   "cell_type": "markdown",
   "metadata": {},
   "source": [
    "### Feature 5 - Number of Different Artists Listened to"
   ]
  },
  {
   "cell_type": "markdown",
   "metadata": {},
   "source": [
    "##### Represents the number of unique artists that a user has listened to"
   ]
  },
  {
   "cell_type": "code",
   "execution_count": 50,
   "metadata": {},
   "outputs": [],
   "source": [
    "n_artists = df.select('userId', 'artist').groupby('userId','artist') \\\n",
    "            .count().groupby('userId').count().selectExpr('userId', 'count as n_artists')"
   ]
  },
  {
   "cell_type": "markdown",
   "metadata": {},
   "source": [
    "### Feature 6 - Number of Songs Added to a Playlist"
   ]
  },
  {
   "cell_type": "markdown",
   "metadata": {},
   "source": [
    "##### Represents the number of times a user added a song to a playlist"
   ]
  },
  {
   "cell_type": "code",
   "execution_count": 51,
   "metadata": {},
   "outputs": [],
   "source": [
    "add_playlist = df.select('userId', 'page').where(f.col('page') == 'Add to Playlist')\n",
    "n_songs = add_playlist.groupby('userId').count().selectExpr('userId','count as songs_added')"
   ]
  },
  {
   "cell_type": "markdown",
   "metadata": {},
   "source": [
    "### Final DataFrame for Modeling"
   ]
  },
  {
   "cell_type": "code",
   "execution_count": 52,
   "metadata": {},
   "outputs": [],
   "source": [
    "# Joins all of the individual features together\n",
    "final_df = churned.join(user_status,on='userId') \\\n",
    "                  .join(days_since_reg,on='userId') \\\n",
    "                  .join(n_thumbs_up,on='userId') \\\n",
    "                  .join(avg_sessions,on='userId') \\\n",
    "                  .join(n_artists,on='userId') \\\n",
    "                  .join(n_songs, on='userId').dropDuplicates(['userId'])"
   ]
  },
  {
   "cell_type": "code",
   "execution_count": 53,
   "metadata": {},
   "outputs": [],
   "source": [
    "#Puts the features in a vector format\n",
    "numFeatures = [\"status\", \"days_since_reg\", \"numThumbs\",'avgSessLen', 'n_artists', 'songs_added']\n",
    "assembler = VectorAssembler(inputCols= numFeatures, outputCol=\"NumFeatures\")\n",
    "\n",
    "vector_df= assembler.transform(final_df)"
   ]
  },
  {
   "cell_type": "code",
   "execution_count": 54,
   "metadata": {},
   "outputs": [],
   "source": [
    "# Scales the data\n",
    "scaler = StandardScaler(inputCol=\"NumFeatures\", outputCol=\"NormNumFeatures\")\n",
    "scalerModel = scaler.fit(vector_df)\n",
    "scale_df = scalerModel.transform(vector_df)"
   ]
  },
  {
   "cell_type": "code",
   "execution_count": 56,
   "metadata": {},
   "outputs": [],
   "source": [
    "# Splits the data for training and testing\n",
    "train, test = scale_df.randomSplit([.7, .3], seed=22)"
   ]
  },
  {
   "cell_type": "markdown",
   "metadata": {},
   "source": [
    "### Naive Predictors"
   ]
  },
  {
   "cell_type": "markdown",
   "metadata": {},
   "source": [
    "The naive predictors assume every user has either churned or not churned. It is something to compare our more advanced models to. "
   ]
  },
  {
   "cell_type": "code",
   "execution_count": 58,
   "metadata": {},
   "outputs": [],
   "source": [
    "# Assumes every one has churned\n",
    "naive_model_1 = test.withColumn('prediction', f.lit(1.0))"
   ]
  },
  {
   "cell_type": "code",
   "execution_count": 59,
   "metadata": {},
   "outputs": [
    {
     "name": "stdout",
     "output_type": "stream",
     "text": [
      "Test set metrics when we assume every user churned:\n",
      "Accuracy: 0.2\n",
      "F-1 Score:0.06666666666666667\n"
     ]
    }
   ],
   "source": [
    "evaluator = MulticlassClassificationEvaluator(labelCol=\"churned\",predictionCol='prediction')\n",
    "print('Test set metrics when we assume every user churned:')\n",
    "print('Accuracy: {}'.format(evaluator.evaluate(naive_model_1, {evaluator.metricName: \"accuracy\"})))\n",
    "print('F-1 Score:{}'.format(evaluator.evaluate(naive_model_1, {evaluator.metricName: \"f1\"})))"
   ]
  },
  {
   "cell_type": "code",
   "execution_count": 60,
   "metadata": {},
   "outputs": [],
   "source": [
    "# Assumes no one has churned\n",
    "naive_model_0 = test.withColumn('prediction', f.lit(0.0))"
   ]
  },
  {
   "cell_type": "code",
   "execution_count": 61,
   "metadata": {},
   "outputs": [
    {
     "name": "stdout",
     "output_type": "stream",
     "text": [
      "Test set metrics when assuming no user churned:\n",
      "Accuracy: 0.8\n",
      "F-1 Score:0.7111111111111111\n"
     ]
    }
   ],
   "source": [
    "evaluator = MulticlassClassificationEvaluator(labelCol=\"churned\",predictionCol='prediction')\n",
    "print('Test set metrics when assuming no user churned:')\n",
    "print('Accuracy: {}'.format(evaluator.evaluate(naive_model_0, {evaluator.metricName: \"accuracy\"})))\n",
    "print('F-1 Score:{}'.format(evaluator.evaluate(naive_model_0, {evaluator.metricName: \"f1\"})))"
   ]
  },
  {
   "cell_type": "markdown",
   "metadata": {},
   "source": [
    "#### Logistic Regression "
   ]
  },
  {
   "cell_type": "code",
   "execution_count": 62,
   "metadata": {},
   "outputs": [],
   "source": [
    "# Initialize classifier\n",
    "LogReg = LogisticRegression(featuresCol = 'NormNumFeatures', labelCol = 'churned')\n",
    "\n",
    "# Set evaluator to use F1 Score\n",
    "f1_eval = MulticlassClassificationEvaluator(metricName='f1', labelCol = 'churned')\n",
    "\n",
    "# Set up parameters for cross validation\n",
    "paramGrid = ParamGridBuilder() \\\n",
    "    .addGrid(LogReg.maxIter,[5, 10]) \\\n",
    "    .addGrid(LogReg.regParam,[0.0,0.3]) \\\n",
    "    .build()\n",
    "\n",
    "# Initialize CrossValidator object\n",
    "cv_lr = CrossValidator(estimator=LogReg,\n",
    "                          estimatorParamMaps=paramGrid,\n",
    "                          evaluator=f1_eval,\n",
    "                          numFolds=3)"
   ]
  },
  {
   "cell_type": "code",
   "execution_count": null,
   "metadata": {},
   "outputs": [
    {
     "name": "stdout",
     "output_type": "stream",
     "text": [
      "Training logistic regression classifier\n",
      "The training process for Logistic Regression took 768.3780760765076 seconds\n"
     ]
    }
   ],
   "source": [
    "print('Training logistic regression classifier')\n",
    "start = time()\n",
    "best_lr = cv_lr.fit(train)\n",
    "end = time()\n",
    "print('The training process for Logistic Regression took {} seconds'.format(end - start))"
   ]
  },
  {
   "cell_type": "code",
   "execution_count": 77,
   "metadata": {},
   "outputs": [
    {
     "name": "stdout",
     "output_type": "stream",
     "text": [
      "Logistic Regression | Training Data\n",
      "Accuracy: 0.75\n",
      "F-1 Score:0.6428571428571428\n",
      "The prediction process for Logistic Regression on training data took 164.0537028312683 seconds\n"
     ]
    }
   ],
   "source": [
    "start = time()\n",
    "\n",
    "lr_train_results = best_lr.transform(train)\n",
    "evaluator = MulticlassClassificationEvaluator(labelCol=\"churned\",predictionCol='prediction')\n",
    "\n",
    "print(\"Logistic Regression | Training Data\")\n",
    "\n",
    "print('Accuracy: {}'.format(evaluator.evaluate(lr_train_results, {evaluator.metricName: \"accuracy\"})))\n",
    "print('F-1 Score:{}'.format(evaluator.evaluate(lr_train_results, {evaluator.metricName: \"f1\"})))\n",
    "\n",
    "end = time()\n",
    "print('The prediction process for Logistic Regression on training data took {} seconds'.format(end - start))"
   ]
  },
  {
   "cell_type": "code",
   "execution_count": 78,
   "metadata": {},
   "outputs": [
    {
     "name": "stdout",
     "output_type": "stream",
     "text": [
      "Logistic Regression | Testing Data\n",
      "Accuracy: 0.8142857142857143\n",
      "F-1 Score:0.7434666666666666\n",
      "The prediction process for Logistic Regression on testing data took 173.28186011314392 seconds\n"
     ]
    }
   ],
   "source": [
    "start = time()\n",
    "\n",
    "lr_test_results = best_lr.transform(test)\n",
    "evaluator = MulticlassClassificationEvaluator(labelCol=\"churned\",predictionCol='prediction')\n",
    "\n",
    "print(\"Logistic Regression | Testing Data\")\n",
    "\n",
    "print('Accuracy: {}'.format(evaluator.evaluate(lr_test_results, {evaluator.metricName: \"accuracy\"})))\n",
    "print('F-1 Score:{}'.format(evaluator.evaluate(lr_test_results, {evaluator.metricName: \"f1\"})))\n",
    "\n",
    "end = time()\n",
    "print('The prediction process for Logistic Regression on testing data took {} seconds'.format(end - start))"
   ]
  },
  {
   "cell_type": "code",
   "execution_count": 79,
   "metadata": {},
   "outputs": [
    {
     "name": "stdout",
     "output_type": "stream",
     "text": [
      "The value for maxIter in the best logistic regression model is: 10\n",
      "The value for regParam in the best logistic regression model is: 0.0\n"
     ]
    }
   ],
   "source": [
    "lr_best_maxIter = best_lr.bestModel.getOrDefault('maxIter')\n",
    "lr_best_regParam = best_lr.bestModel.getOrDefault('regParam')\n",
    "print(\"The value for maxIter in the best logistic regression model is: {}\".format(lr_best_maxIter))\n",
    "print(\"The value for regParam in the best logistic regression model is: {}\".format(lr_best_regParam))"
   ]
  },
  {
   "cell_type": "markdown",
   "metadata": {},
   "source": [
    "### Decision Tree"
   ]
  },
  {
   "cell_type": "code",
   "execution_count": null,
   "metadata": {},
   "outputs": [],
   "source": [
    "# Initialize DecisionTreeClassifier\n",
    "dt = DecisionTreeClassifier(seed=42,featuresCol = 'NormNumFeatures', labelCol = 'churned')\n",
    "\n",
    "# Set evaluator to use F1 Score\n",
    "f1_eval = MulticlassClassificationEvaluator(metricName='f1', labelCol = 'churned')\n",
    "\n",
    "# Set up parameters for cross validation\n",
    "paramGrid = ParamGridBuilder() \\\n",
    "    .addGrid(dt.impurity,['entropy', 'gini']) \\\n",
    "    .addGrid(dt.maxDepth,[2, 3, 4, 5, 6, 7, 8]) \\\n",
    "    .build()\n",
    "\n",
    "# Initialize CrossValidator object\n",
    "cv_dt = CrossValidator(estimator=dt,\n",
    "                          estimatorParamMaps=paramGrid,\n",
    "                          evaluator=f1_eval,\n",
    "                          numFolds=3)"
   ]
  },
  {
   "cell_type": "code",
   "execution_count": null,
   "metadata": {},
   "outputs": [
    {
     "name": "stdout",
     "output_type": "stream",
     "text": [
      "The training process for Decision Tree took 1278.6049432754517 seconds\n"
     ]
    }
   ],
   "source": [
    "print('Training the decisison tree classifier')\n",
    "start = time()\n",
    "best_dt = cv_dt.fit(train)   \n",
    "end = time()\n",
    "print('The training process for Decision Tree took {} seconds'.format(end - start))"
   ]
  },
  {
   "cell_type": "code",
   "execution_count": null,
   "metadata": {},
   "outputs": [
    {
     "name": "stdout",
     "output_type": "stream",
     "text": [
      "Decision Tree | Training Data\n",
      "Accuracy: 0.8081395348837209\n",
      "F-1 Score:0.8021733938380702\n",
      "The prediction process for Decision Tree on training data took 159.04235863685608 seconds\n"
     ]
    }
   ],
   "source": [
    "start = time()\n",
    "\n",
    "dt_train_results = best_dt.transform(train)\n",
    "evaluator = MulticlassClassificationEvaluator(labelCol=\"churned\",predictionCol='prediction')\n",
    "\n",
    "print(\"Decision Tree | Training Data\")\n",
    "\n",
    "print('Accuracy: {}'.format(evaluator.evaluate(dt_train_results, {evaluator.metricName: \"accuracy\"})))\n",
    "print('F-1 Score:{}'.format(evaluator.evaluate(dt_train_results, {evaluator.metricName: \"f1\"})))\n",
    "\n",
    "end = time()\n",
    "print('The prediction process for Decision Tree on training data took {} seconds'.format(end - start))"
   ]
  },
  {
   "cell_type": "code",
   "execution_count": null,
   "metadata": {},
   "outputs": [
    {
     "name": "stdout",
     "output_type": "stream",
     "text": [
      "Decision Tree | Testing Data\n",
      "Accuracy: 0.7714285714285715\n",
      "F-1 Score:0.7714285714285715\n",
      "The prediction process for Decision Tree on testing data took 179.54874277114868 seconds\n"
     ]
    }
   ],
   "source": [
    "start = time()\n",
    "\n",
    "dt_test_results = best_dt.transform(test)\n",
    "evaluator = MulticlassClassificationEvaluator(labelCol=\"churned\",predictionCol='prediction')\n",
    "\n",
    "print(\"Decision Tree | Testing Data\")\n",
    "\n",
    "print('Accuracy: {}'.format(evaluator.evaluate(dt_test_results, {evaluator.metricName: \"accuracy\"})))\n",
    "print('F-1 Score:{}'.format(evaluator.evaluate(dt_test_results, {evaluator.metricName: \"f1\"})))\n",
    "\n",
    "end = time()\n",
    "print('The prediction process for Decision Tree on testing data took {} seconds'.format(end - start))"
   ]
  },
  {
   "cell_type": "code",
   "execution_count": null,
   "metadata": {},
   "outputs": [
    {
     "name": "stdout",
     "output_type": "stream",
     "text": [
      "The value for impurity in the best decision tree model is: entropy\n",
      "The value for maxDepth in the best decision tree model is: 2\n"
     ]
    }
   ],
   "source": [
    "dt_best_impurity = best_dt.bestModel.getOrDefault('impurity')\n",
    "dt_best_maxDepth = best_dt.bestModel.getOrDefault('maxDepth')\n",
    "print(\"The value for impurity in the best decision tree model is: {}\".format(dt_best_impurity))\n",
    "print(\"The value for maxDepth in the best decision tree model is: {}\".format(dt_best_maxDepth))"
   ]
  },
  {
   "cell_type": "markdown",
   "metadata": {},
   "source": [
    "### Gradient Boosted Trees"
   ]
  },
  {
   "cell_type": "code",
   "execution_count": null,
   "metadata": {},
   "outputs": [],
   "source": [
    "# Initialize classifier\n",
    "gbt = GBTClassifier(maxIter=10,seed=42,featuresCol = 'NormNumFeatures', labelCol = 'churned')\n",
    "\n",
    "# Set evaluator to use F1 Score\n",
    "f1_eval = MulticlassClassificationEvaluator(metricName='f1', labelCol = 'churned')\n",
    "\n",
    "# Build paramGrid\n",
    "paramGrid = ParamGridBuilder() \\\n",
    "    .addGrid(gbt.maxIter,[5,10]) \\\n",
    "    .addGrid(gbt.maxDepth,[10,15]) \\\n",
    "    .build()\n",
    "\n",
    "# Initialize CrossValidator object\n",
    "cv_gbt = CrossValidator(estimator=gbt,\n",
    "                          estimatorParamMaps=paramGrid,\n",
    "                          evaluator=f1_eval,\n",
    "                          numFolds=3)"
   ]
  },
  {
   "cell_type": "code",
   "execution_count": null,
   "metadata": {},
   "outputs": [
    {
     "name": "stdout",
     "output_type": "stream",
     "text": [
      "Training the gradient boosted trees classifier\n",
      "The training process for GBT took 2544.100419998169 seconds\n"
     ]
    }
   ],
   "source": [
    "print('Training the gradient boosted trees classifier')\n",
    "start = time()\n",
    "best_gbt = cv_gbt.fit(train)   \n",
    "end = time()\n",
    "print('The training process for GBT took {} seconds'.format(end - start))"
   ]
  },
  {
   "cell_type": "code",
   "execution_count": null,
   "metadata": {},
   "outputs": [
    {
     "name": "stdout",
     "output_type": "stream",
     "text": [
      "GBT | Training Data\n",
      "Accuracy: 1.0\n",
      "F-1 Score:1.0\n",
      "The prediction process for GBT on training data took 164.63793921470642 seconds\n"
     ]
    }
   ],
   "source": [
    "start = time()\n",
    "\n",
    "gbt_train_results = best_gbt.transform(train)\n",
    "evaluator = MulticlassClassificationEvaluator(labelCol=\"churned\",predictionCol='prediction')\n",
    "\n",
    "print(\"GBT | Training Data\")\n",
    "\n",
    "print('Accuracy: {}'.format(evaluator.evaluate(gbt_train_results,{evaluator.metricName: \"accuracy\"})))\n",
    "print('F-1 Score:{}'.format(evaluator.evaluate(gbt_train_results, {evaluator.metricName: \"f1\"})))\n",
    "\n",
    "end = time()\n",
    "print('The prediction process for GBT on training data took {} seconds'.format(end - start))"
   ]
  },
  {
   "cell_type": "code",
   "execution_count": null,
   "metadata": {},
   "outputs": [
    {
     "name": "stdout",
     "output_type": "stream",
     "text": [
      "GBT | Testing Data\n",
      "Accuracy: 0.7142857142857143\n",
      "F-1 Score:0.7268518518518517\n",
      "The prediction process for GBT on testing data took 164.6397180557251 seconds\n"
     ]
    }
   ],
   "source": [
    "start = time()\n",
    "\n",
    "gbt_test_results = best_gbt.transform(test)\n",
    "evaluator = MulticlassClassificationEvaluator(labelCol=\"churned\",predictionCol='prediction')\n",
    "\n",
    "print(\"GBT | Testing Data\")\n",
    "\n",
    "print('Accuracy: {}'.format(evaluator.evaluate(gbt_test_results, {evaluator.metricName: \"accuracy\"})))\n",
    "print('F-1 Score:{}'.format(evaluator.evaluate(gbt_test_results, {evaluator.metricName: \"f1\"})))\n",
    "\n",
    "end = time()\n",
    "print('The prediction process for GBT on testing data took {} seconds'.format(end - start))"
   ]
  },
  {
   "cell_type": "code",
   "execution_count": null,
   "metadata": {},
   "outputs": [
    {
     "name": "stdout",
     "output_type": "stream",
     "text": [
      "The value for maxIter in the best GBT model is: 5\n",
      "The value for maxDepth in the best GBT model is: 10\n"
     ]
    }
   ],
   "source": [
    "gbt_best_maxIter = best_gbt.bestModel.getOrDefault('maxIter')\n",
    "gbt_best_maxDepth = best_gbt.bestModel.getOrDefault('maxDepth')\n",
    "print(\"The value for maxIter in the best GBT model is: {}\".format(gbt_best_maxIter))\n",
    "print(\"The value for maxDepth in the best GBT model is: {}\".format(gbt_best_maxDepth))"
   ]
  }
 ],
 "metadata": {
  "kernelspec": {
   "display_name": "Python 3.6 with Spark",
   "language": "python3",
   "name": "python36"
  },
  "language_info": {
   "codemirror_mode": {
    "name": "ipython",
    "version": 3
   },
   "file_extension": ".py",
   "mimetype": "text/x-python",
   "name": "python",
   "nbconvert_exporter": "python",
   "pygments_lexer": "ipython3",
   "version": "3.6.8"
  }
 },
 "nbformat": 4,
 "nbformat_minor": 1
}
